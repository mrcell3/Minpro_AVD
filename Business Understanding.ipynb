{
  "nbformat": 4,
  "nbformat_minor": 0,
  "metadata": {
    "colab": {
      "provenance": []
    },
    "kernelspec": {
      "name": "python3",
      "display_name": "Python 3"
    },
    "language_info": {
      "name": "python"
    }
  },
  "cells": [
    {
      "cell_type": "markdown",
      "source": [
        "# **BUSINESS UNDERSTANDING**"
      ],
      "metadata": {
        "id": "mKELJi_d3aoG"
      }
    },
    {
      "cell_type": "markdown",
      "source": [
        "## **Business Objective**"
      ],
      "metadata": {
        "id": "ueFMSncx5kgi"
      }
    },
    {
      "cell_type": "markdown",
      "source": [
        "Supermarket memiliki berbagai metode pembayaran, seperti tunai, kartu kredit, dan e-wallet. Namun, belum diketahui metode pembayaran mana yang paling sering digunakan dan apakah ada pola tertentu dalam penggunaannya. Analisis ini bertujuan untuk memahami bagaimana pelanggan memilih metode pembayaran dan bagaimana supermarket bisa mengoptimalkan sistem pembayaran agar lebih efektif. Dengan memahami pola transaksi pelanggan, supermarket dapat meningkatkan pendapatan, mengurangi biaya operasional, dan meningkatkan kepuasan pelanggan."
      ],
      "metadata": {
        "id": "XfGfYJ376TUd"
      }
    },
    {
      "cell_type": "markdown",
      "source": [
        "## **Assess Situation**"
      ],
      "metadata": {
        "id": "pillQNiR6Zcg"
      }
    },
    {
      "cell_type": "markdown",
      "source": [
        "Di era digital, tren pembayaran di supermarket semakin beragam. Banyak pelanggan mulai beralih ke pembayaran non-tunai karena dianggap lebih cepat dan praktis. Namun, masih ada pelanggan yang tetap menggunakan pembayaran tunai. Persaingan antar supermarket juga semakin ketat, di mana beberapa pesaing menawarkan promo khusus untuk metode pembayaran tertentu. Oleh karena itu, penting untuk memahami faktor-faktor yang memengaruhi pilihan metode pembayaran pelanggan agar supermarket dapat mengambil keputusan bisnis yang tepat."
      ],
      "metadata": {
        "id": "FQ7aPlwM7IZr"
      }
    },
    {
      "cell_type": "markdown",
      "source": [
        "## **Data Mining Goals**"
      ],
      "metadata": {
        "id": "3Fv-CzTL7I8h"
      }
    },
    {
      "cell_type": "markdown",
      "source": [
        "Analisis ini bertujuan untuk mengidentifikasi pola penggunaan metode pembayaran di supermarket. Fokus utama adalah mengetahui metode pembayaran yang paling sering digunakan dan apakah ada hubungan antara metode pembayaran dengan total belanja pelanggan. Selain itu, analisis ini juga akan mengeksplorasi bagaimana waktu transaksi memengaruhi pilihan metode pembayaran dan apakah ada perbedaan preferensi berdasarkan jenis pelanggan."
      ],
      "metadata": {
        "id": "VhVX6YnG7QQD"
      }
    },
    {
      "cell_type": "markdown",
      "source": [
        "## **Project Plan**"
      ],
      "metadata": {
        "id": "mX-PcL3D7RBK"
      }
    },
    {
      "cell_type": "markdown",
      "source": [
        "Analisis ini dimulai dengan mengumpulkan data transaksi supermarket yang mencakup informasi metode pembayaran, waktu transaksi, total belanja, dan data pelanggan. Data yang terkumpul kemudian diproses dengan membersihkan nilai yang hilang atau tidak valid, serta menyesuaikan format agar siap untuk dianalisis.\n",
        "\n",
        "Setelah data siap, dilakukan eksplorasi untuk mengidentifikasi pola penggunaan metode pembayaran. Analisis ini mencakup distribusi metode pembayaran yang digunakan pelanggan, hubungan antara metode pembayaran dengan total belanja, serta kemungkinan adanya perbedaan preferensi berdasarkan waktu transaksi atau jenis pelanggan.\n",
        "\n",
        "Hasil eksplorasi divisualisasikan menggunakan grafik dan tabel untuk mempermudah interpretasi pola yang ditemukan. Berdasarkan temuan yang diperoleh, akan dibuat rekomendasi bagi supermarket. Supermarket dapat mengambil keputusan strategis, seperti meningkatkan promosi untuk metode pembayaran tertentu atau menambah fasilitas pembayaran digital."
      ],
      "metadata": {
        "id": "HJgcjq8j7ZKh"
      }
    }
  ]
}